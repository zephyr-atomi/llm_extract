{
 "cells": [
  {
   "cell_type": "code",
   "execution_count": null,
   "id": "a92662cc-310a-4243-92c0-7846cd2d5d55",
   "metadata": {},
   "outputs": [],
   "source": [
    "# 初始化 CrossEntropyLoss 时传递 ignore_index\n",
    "epochs = 3\n",
    "pad_token_label_id = -100\n",
    "loss_fn = torch.nn.CrossEntropyLoss(ignore_index=pad_token_label_id)\n",
    "\n",
    "def get_embeddings(tokens):\n",
    "    inputs = tokenizer(tokens, return_tensors=\"pt\", is_split_into_words=True, padding=True, truncation=True)\n",
    "    with torch.no_grad():\n",
    "        outputs = bert_model(**inputs)\n",
    "    return outputs.last_hidden_state, inputs['attention_mask']  # 返回 embeddings 和 attention_mask\n",
    "\n",
    "def pad_labels(labels, max_length, pad_token_label_id):\n",
    "    \"\"\"对 labels 进行 padding，长度补齐到 max_length\"\"\"\n",
    "    labels = labels + [pad_token_label_id] * (max_length - len(labels))\n",
    "    return labels\n",
    "\n",
    "for epoch in range(epochs):\n",
    "    batch_counter = 0  # 初始化 batch 计数器\n",
    "    for batch in train_dataset:\n",
    "        tokens = batch['tokens']\n",
    "        labels = batch['ner_tags']\n",
    "\n",
    "        # 获取 tokens 的 embeddings 和 attention mask\n",
    "        embeddings, attention_mask = get_embeddings(tokens)\n",
    "\n",
    "        # 对 labels 进行 padding，长度与 embeddings 的 sequence length (12) 匹配\n",
    "        padded_labels = pad_labels(labels, embeddings.size(1), pad_token_label_id)\n",
    "\n",
    "        # 转换为 tensor 并展平\n",
    "        outputs = model(embeddings)\n",
    "        outputs = outputs.view(-1, num_labels)  # 将输出展平为 [batch_size * seq_length, num_labels]\n",
    "        padded_labels = torch.tensor(padded_labels).view(-1)  # 将 labels 展平为 [batch_size * seq_length]\n",
    "\n",
    "        # 计算损失，此时不再传递 ignore_index 参数\n",
    "        loss = loss_fn(outputs, padded_labels)\n",
    "\n",
    "        # 反向传播并更新权重\n",
    "        optimizer.zero_grad()\n",
    "        loss.backward()\n",
    "        optimizer.step()\n",
    "\n",
    "        # 输出当前 batch 计数器和损失值\n",
    "        batch_counter += 1\n",
    "        print(f'Epoch {epoch+1}, Batch {batch_counter}, Loss: {loss.item()}')\n",
    "\n",
    "    # 每个 epoch 完成后输出一次\n",
    "    print(f\"Epoch {epoch+1} completed.')\n"
   ]
  }
 ],
 "metadata": {
  "kernelspec": {
   "display_name": "Python 3 (ipykernel)",
   "language": "python",
   "name": "python3"
  },
  "language_info": {
   "codemirror_mode": {
    "name": "ipython",
    "version": 3
   },
   "file_extension": ".py",
   "mimetype": "text/x-python",
   "name": "python",
   "nbconvert_exporter": "python",
   "pygments_lexer": "ipython3",
   "version": "3.12.1"
  }
 },
 "nbformat": 4,
 "nbformat_minor": 5
}
